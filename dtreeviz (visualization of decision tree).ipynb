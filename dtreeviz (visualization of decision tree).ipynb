{
 "cells": [
  {
   "cell_type": "code",
   "execution_count": null,
   "id": "bc5c78b7",
   "metadata": {},
   "outputs": [],
   "source": [
    "import graphviz.backend as be\n",
    "import numpy as np\n",
    "import graphviz     \n",
    "from sklearn.tree import DecisionTreeClassifier,DecisionTreeRegressor\n",
    "from sklearn.datasets import *\n",
    "from dtreeviz.trees import dtreeviz\n",
    "from IPython.display import Image, display_svg, SVG"
   ]
  },
  {
   "cell_type": "code",
   "execution_count": null,
   "id": "11c2e404",
   "metadata": {},
   "outputs": [],
   "source": [
    "clas = DecisionTreeClassifier(max_depth=2)  \n",
    "iris = load_iris()\n",
    "\n",
    "x_train = iris.data\n",
    "y_train = iris.target\n",
    "clas.fit(x_train, y_train)"
   ]
  },
  {
   "cell_type": "code",
   "execution_count": null,
   "id": "4f2be0fd",
   "metadata": {},
   "outputs": [],
   "source": [
    "from sklearn.tree import plot_tree\n",
    "plot_tree(clas)"
   ]
  },
  {
   "cell_type": "markdown",
   "id": "8af30041",
   "metadata": {},
   "source": [
    "## 1.classification"
   ]
  },
  {
   "cell_type": "code",
   "execution_count": null,
   "id": "bc2ea568",
   "metadata": {},
   "outputs": [],
   "source": [
    "viz = dtreeviz(clas, \n",
    "               x_train,\n",
    "               y_train,\n",
    "               feature_names=iris.feature_names, \n",
    "               class_names=[\"setosa\", \"versicolor\", \"virginica\"])\n",
    "viz"
   ]
  },
  {
   "cell_type": "markdown",
   "id": "abcaa0ee",
   "metadata": {},
   "source": [
    "## 2.Regression"
   ]
  },
  {
   "cell_type": "code",
   "execution_count": null,
   "id": "2189f055",
   "metadata": {},
   "outputs": [],
   "source": [
    "regr =DecisionTreeRegressor(max_depth=1)\n",
    "boston = fetch_california_housing()\n",
    "\n",
    "X_train = boston.data\n",
    "y_train = boston.target\n",
    "regr.fit(X_train, y_train)\n",
    "\n",
    "viz = dtreeviz(regr,\n",
    "               X_train,\n",
    "               y_train,\n",
    "               target_name='price',\n",
    "               feature_names=boston.feature_names,\n",
    "               scale=2\n",
    "              )\n",
    "viz\n"
   ]
  },
  {
   "cell_type": "markdown",
   "id": "52847555",
   "metadata": {},
   "source": [
    "## 3. Horizontal Decision Tree"
   ]
  },
  {
   "cell_type": "code",
   "execution_count": null,
   "id": "a01363a7",
   "metadata": {},
   "outputs": [],
   "source": [
    "\n",
    "viz = dtreeviz(clas, \n",
    "               x_train,\n",
    "               y_train,\n",
    "               target_name='price',\n",
    "               feature_names=iris.feature_names, \n",
    "               class_names=[\"setosa\", \"versicolor\", \"virginica\"], \n",
    "               scale = 1.5,\n",
    "               orientation='LR')\n",
    "viz"
   ]
  },
  {
   "cell_type": "markdown",
   "id": "9d87ce43",
   "metadata": {},
   "source": [
    "## 4. Show prediction path"
   ]
  },
  {
   "cell_type": "code",
   "execution_count": null,
   "id": "753f7800",
   "metadata": {},
   "outputs": [],
   "source": [
    "clas = DecisionTreeClassifier()  \n",
    "iris = load_iris()\n",
    "\n",
    "X_train = iris.data\n",
    "y_train = iris.target\n",
    "clas.fit(X_train, y_train)\n",
    "\n",
    "X = iris.data[np.random.randint(0, len(iris.data)),:]\n",
    "\n",
    "viz = dtreeviz(clas, \n",
    "               X_train,\n",
    "               y_train,\n",
    "               feature_names=iris.feature_names, \n",
    "               class_names=[\"setosa\", \"versicolor\", \"virginica\"], \n",
    "               X=X)\n",
    "viz"
   ]
  },
  {
   "cell_type": "markdown",
   "id": "73da80e7",
   "metadata": {},
   "source": [
    "## 5. Show node number"
   ]
  },
  {
   "cell_type": "code",
   "execution_count": null,
   "id": "4cddc001",
   "metadata": {},
   "outputs": [],
   "source": [
    "viz = dtreeviz(clas, \n",
    "               X_train,\n",
    "               y_train,\n",
    "               target_name='price',\n",
    "               feature_names=iris.feature_names, \n",
    "               class_names=[\"setosa\", \"versicolor\", \"virginica\"], \n",
    "               histtype= 'barstacked',\n",
    "               scale = 1.5,\n",
    "               orientation='LR',\n",
    "               show_node_labels=True)\n",
    "viz"
   ]
  },
  {
   "cell_type": "markdown",
   "id": "73c30971",
   "metadata": {},
   "source": [
    "## 6. Without Any graphs"
   ]
  },
  {
   "cell_type": "code",
   "execution_count": null,
   "id": "3d8bc747",
   "metadata": {},
   "outputs": [],
   "source": [
    "viz = dtreeviz(clas, \n",
    "               X_train,\n",
    "               y_train,\n",
    "               target_name='price',\n",
    "               feature_names=iris.feature_names, \n",
    "               class_names=[\"setosa\", \"versicolor\", \"virginica\"], \n",
    "               histtype= 'barstacked',\n",
    "               scale = 1.5,\n",
    "               orientation='LR',\n",
    "               fancy=False)\n",
    "viz"
   ]
  },
  {
   "cell_type": "markdown",
   "id": "b9dc4b67",
   "metadata": {},
   "source": [
    "## 7. Show just prediction path, nothing else"
   ]
  },
  {
   "cell_type": "code",
   "execution_count": null,
   "id": "d2fbb613",
   "metadata": {},
   "outputs": [],
   "source": [
    "clas = tree.DecisionTreeClassifier()  \n",
    "iris = load_iris()\n",
    "\n",
    "X_train = iris.data\n",
    "y_train = iris.target\n",
    "clas.fit(X_train, y_train)\n",
    "\n",
    "X = iris.data[np.random.randint(0, len(iris.data)),:]\n",
    "\n",
    "viz = dtreeviz(clas, \n",
    "               X_train,\n",
    "               y_train,\n",
    "               target_name='price',\n",
    "               feature_names=iris.feature_names, \n",
    "               class_names=[\"setosa\", \"versicolor\", \"virginica\"], \n",
    "               X=X,\n",
    "               show_just_path=True)\n",
    "viz"
   ]
  },
  {
   "cell_type": "markdown",
   "id": "7fd85f02",
   "metadata": {},
   "source": [
    "## 8. Prediction Path in Plain english"
   ]
  },
  {
   "cell_type": "code",
   "execution_count": null,
   "id": "2dfb7783",
   "metadata": {},
   "outputs": [],
   "source": [
    "print(explain_prediction_path(clas, X, feature_names=iris.feature_names, explanation_type=\"plain_english\"))"
   ]
  },
  {
   "cell_type": "markdown",
   "id": "0a5bd223",
   "metadata": {},
   "source": [
    "## 9. Feature Importance"
   ]
  },
  {
   "cell_type": "code",
   "execution_count": null,
   "id": "29c39ea1",
   "metadata": {},
   "outputs": [],
   "source": [
    "print(explain_prediction_path(clas, X, feature_names=iris.feature_names, explanation_type=\"sklearn_default\"))"
   ]
  },
  {
   "cell_type": "markdown",
   "id": "b0cc267e",
   "metadata": {},
   "source": [
    "## 10. Univariate Regression"
   ]
  },
  {
   "cell_type": "code",
   "execution_count": null,
   "id": "e278ddb3",
   "metadata": {},
   "outputs": [],
   "source": [
    "import pandas as pd\n",
    "import matplotlib.pyplot as plt\n",
    "from sklearn.tree import DecisionTreeRegressor\n",
    "from dtreeviz.trees import *\n",
    "\n",
    "df_cars = pd.read_csv(\"cars.csv\")\n",
    "X, y = df_cars[['WGT']], df_cars['MPG']\n",
    "\n",
    "dt = DecisionTreeRegressor(max_depth=3, criterion=\"mae\")\n",
    "dt.fit(X, y)\n",
    "\n",
    "fig = plt.figure()\n",
    "ax = fig.gca()\n",
    "rtreeviz_univar(dt, X, y, 'WGT', 'MPG', ax=ax)\n",
    "plt.show()"
   ]
  },
  {
   "cell_type": "markdown",
   "id": "252081bb",
   "metadata": {},
   "source": [
    "## 11. 3-D Regression"
   ]
  },
  {
   "cell_type": "code",
   "execution_count": null,
   "id": "2137075f",
   "metadata": {},
   "outputs": [],
   "source": [
    "df_cars = pd.read_csv(\"cars.csv\")\n",
    "\n",
    "df_cars"
   ]
  },
  {
   "cell_type": "code",
   "execution_count": null,
   "id": "868dc767",
   "metadata": {},
   "outputs": [],
   "source": [
    "from mpl_toolkits.mplot3d import Axes3D\n",
    "from sklearn.tree import DecisionTreeRegressor\n",
    "from dtreeviz.trees import *\n",
    "\n",
    "\n",
    "X = df_cars[['WGT','ENG']]\n",
    "y = df_cars['MPG']\n",
    "\n",
    "dt = DecisionTreeRegressor(max_depth=3, criterion=\"mae\")\n",
    "dt.fit(X, y)\n",
    "\n",
    "figsize = (6,5)\n",
    "fig = plt.figure(figsize=figsize)\n",
    "ax = fig.add_subplot(111, projection='3d')\n",
    "\n",
    "t = rtreeviz_bivar_3D(dt,\n",
    "                      X, y,\n",
    "                      feature_names=['Vehicle Weight', 'Horse Power'],\n",
    "                      target_name='MPG',\n",
    "                      fontsize=14,\n",
    "                      elev=20,\n",
    "                      azim=25,\n",
    "                      dist=8.2,\n",
    "                      show={'splits','title'},\n",
    "                      ax=ax)\n",
    "plt.show()"
   ]
  }
 ],
 "metadata": {
  "kernelspec": {
   "display_name": "Python 3 (ipykernel)",
   "language": "python",
   "name": "python3"
  },
  "language_info": {
   "codemirror_mode": {
    "name": "ipython",
    "version": 3
   },
   "file_extension": ".py",
   "mimetype": "text/x-python",
   "name": "python",
   "nbconvert_exporter": "python",
   "pygments_lexer": "ipython3",
   "version": "3.11.3"
  }
 },
 "nbformat": 4,
 "nbformat_minor": 5
}
